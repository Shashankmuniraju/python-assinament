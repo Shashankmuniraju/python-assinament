{
 "cells": [
  {
   "cell_type": "code",
   "execution_count": 1,
   "id": "e2f339c6-d074-4541-8d7f-8bae9f702951",
   "metadata": {},
   "outputs": [
    {
     "name": "stdout",
     "output_type": "stream",
     "text": [
      "enter first number: 2\n",
      "enter second number: 5\n"
     ]
    },
    {
     "name": "stdout",
     "output_type": "stream",
     "text": [
      "addition: 7\n",
      "substraction: -3\n",
      "multiplication: 10\n",
      "division: 0.4\n",
      "floor_division: 0\n",
      "modulus: 2\n",
      "exponent: 32\n"
     ]
    }
   ],
   "source": [
    " #question 1:arthmetic operators\n",
    " a=int(input(\"enter first number:\"))\n",
    " b=int(input(\"enter second number:\"))\n",
    " addition=a+b\n",
    " print(\"addition:\",a+b)\n",
    " subtraction=a-b\n",
    " print(\"substraction:\",a-b)\n",
    " multiplication=a*b\n",
    " print(\"multiplication:\",a*b)\n",
    " division=a/b\n",
    " print(\"division:\",a/b)\n",
    " floor_divison=a//b\n",
    " print(\"floor_division:\",a//b)\n",
    " modulus=a%b\n",
    " print(\"modulus:\",a%b)\n",
    " exponent=a**b\n",
    " print(\"exponent:\",a**b)\n"
   ]
  },
  {
   "cell_type": "code",
   "execution_count": 7,
   "id": "9c85f97f-a858-4118-98bf-692390eaf69c",
   "metadata": {},
   "outputs": [
    {
     "name": "stdout",
     "output_type": "stream",
     "text": [
      "False\n",
      "True\n",
      "False\n",
      "True\n",
      "True\n",
      "True\n",
      "False\n",
      "True\n",
      "False\n"
     ]
    }
   ],
   "source": [
    " #question 3:logical operator bollean\n",
    " a=True\n",
    " b=False\n",
    " c=True\n",
    " print(a and b)\n",
    " print(a and c)\n",
    " print(b and c)\n",
    " print(b or a)\n",
    " print(a or c)\n",
    " print(b or c)\n",
    " print(not a)\n",
    " print(not b)\n",
    " print(not c)"
   ]
  },
  {
   "cell_type": "code",
   "execution_count": 8,
   "id": "307ca77c-e7fc-4ba8-8b7d-0ab661e143a3",
   "metadata": {},
   "outputs": [
    {
     "name": "stdout",
     "output_type": "stream",
     "text": [
      "Enter The string name shashank naidu\n"
     ]
    },
    {
     "name": "stdout",
     "output_type": "stream",
     "text": [
      "14\n",
      "s u\n",
      "udian knahsahs\n",
      "SHASHANK NAIDU\n",
      "shashank naidu\n"
     ]
    }
   ],
   "source": [
    " #question 4: string manipulation\n",
    " a=input(\"Enter The string name\")\n",
    " print(len(a))\n",
    " print(a[0],a[-1])\n",
    " print(a[::-1])\n",
    " print(a.upper())\n",
    " print(a.lower())"
   ]
  },
  {
   "cell_type": "code",
   "execution_count": null,
   "id": "1f1683bb-eecb-4311-b82c-d148d2ccbb42",
   "metadata": {},
   "outputs": [],
   "source": []
  },
  {
   "cell_type": "code",
   "execution_count": 12,
   "id": "b7f101d5-03f4-42c7-9745-9c51a50aa5cb",
   "metadata": {},
   "outputs": [
    {
     "name": "stdout",
     "output_type": "stream",
     "text": [
      "Write a sentence: my name is shashank my age is 18\n",
      "Enter the word you want to search for: age\n"
     ]
    },
    {
     "name": "stdout",
     "output_type": "stream",
     "text": [
      "The word'age'is in the position:'23' \n"
     ]
    }
   ],
   "source": [
    " #problem number 6 substring searching\n",
    " a=input(\"Write a sentence:\")\n",
    " b=input(\"Enter the word you want to search for:\")\n",
    " if b in a:\n",
    "          print(f\"The word'{b}'is in the position:'{a.index(b)}' \")\n",
    " elif b not in a:\n",
    "    print(\"the word does not exist\")"
   ]
  },
  {
   "cell_type": "code",
   "execution_count": 21,
   "id": "b4134ccb-7905-4e29-b28e-6a386ba7cc39",
   "metadata": {},
   "outputs": [
    {
     "name": "stdout",
     "output_type": "stream",
     "text": [
      "['litchi', 'kiwi', 'mango', 'banana', 'apple']\n"
     ]
    }
   ],
   "source": [
    " #question 8 : list manipulation\n",
    " fruits=[\"litchi\",\"orange\",\"kiwi\",\"mango\",\"banana\"]\n",
    " fruits.append(\"apple\")\n",
    " fruits.pop(1)\n",
    " print(fruits)"
   ]
  },
  {
   "cell_type": "code",
   "execution_count": 22,
   "id": "00f57366-b2d3-4ee4-a756-49e519561d31",
   "metadata": {},
   "outputs": [
    {
     "name": "stdout",
     "output_type": "stream",
     "text": [
      "Enter five numbers separated by space:  234 13456 123456 123 1456\n"
     ]
    },
    {
     "name": "stdout",
     "output_type": "stream",
     "text": [
      "ascending order: [123, 234, 1456, 13456, 123456]\n",
      "descending order: [123456, 13456, 1456, 234, 123]\n"
     ]
    }
   ],
   "source": [
    " #question 9: sorting a list\n",
    " numbers=input(\"Enter five numbers separated by space: \")\n",
    " numbers=[int(x) for x in numbers.split()]\n",
    " #ascending order\n",
    " numbers.sort()\n",
    " print(\"ascending order:\", numbers)\n",
    " #desending order\n",
    " numbers.sort(reverse=True)\n",
    " print(\"descending order:\", numbers)"
   ]
  },
  {
   "cell_type": "code",
   "execution_count": 23,
   "id": "f4d2a756-f8c3-48c0-8ee6-5baf17217ce6",
   "metadata": {},
   "outputs": [
    {
     "name": "stdout",
     "output_type": "stream",
     "text": [
      "[1, 2, 3, 4, 5]\n",
      "[6, 7, 8, 9, 10]\n",
      "[2, 3, 4, 5, 6, 7, 8]\n"
     ]
    }
   ],
   "source": [
    " #question 10 :list slicing\n",
    " num=[1, 2, 3, 4, 5, 6, 7, 8, 9, 10]\n",
    " print(num[:5])\n",
    " print(num[5:])\n",
    " print(num[1:8])"
   ]
  },
  {
   "cell_type": "code",
   "execution_count": null,
   "id": "df3ad2cb-c243-40f8-a458-77a4aa207e3f",
   "metadata": {},
   "outputs": [],
   "source": [
    " print(\"hello\",name,\"you are\",age,\"years old\")#question 5:string formatting\n"
   ]
  },
  {
   "cell_type": "code",
   "execution_count": 26,
   "id": "1f3ad1bd-4b21-448b-a9a6-b9ea9211b498",
   "metadata": {},
   "outputs": [
    {
     "name": "stdout",
     "output_type": "stream",
     "text": [
      "please enter your first number 65\n",
      "please enter your second number 74\n"
     ]
    },
    {
     "name": "stdout",
     "output_type": "stream",
     "text": [
      "Number1 smaller than Number2\n"
     ]
    }
   ],
   "source": [
    "#question2:comparison operators\n",
    "Number1 = int(input('please enter your first number')) \n",
    "\n",
    "Number2 = int(input('please enter your second number'))\n",
    "\n",
    "if Number1 > Number2:\n",
    "    print('Number1 bigger than Number2')\n",
    "elif Number1 < Number2:\n",
    "    print('Number1 smaller than Number2')\n",
    "else:\n",
    "    print('Number1 equal to Number2')"
   ]
  },
  {
   "cell_type": "code",
   "execution_count": 27,
   "id": "9142afdd-a8ce-4953-a218-fadf945b66fe",
   "metadata": {},
   "outputs": [
    {
     "ename": "IndentationError",
     "evalue": "unexpected indent (279417094.py, line 2)",
     "output_type": "error",
     "traceback": [
      "\u001b[1;36m  Cell \u001b[1;32mIn[27], line 2\u001b[1;36m\u001b[0m\n\u001b[1;33m    name=input(\"Enter The name : \")\u001b[0m\n\u001b[1;37m    ^\u001b[0m\n\u001b[1;31mIndentationError\u001b[0m\u001b[1;31m:\u001b[0m unexpected indent\n"
     ]
    }
   ],
   "source": [
    "#question 5:string formatting\n",
    " name=input(\"Enter The name : \")\n",
    " age=int(input(\"Enter The age : \"))\n",
    " print(\"hello\",name,\"you are\",age,\"years old\")"
   ]
  },
  {
   "cell_type": "code",
   "execution_count": 28,
   "id": "0df5f518-79cb-4772-9810-7d67033d0d22",
   "metadata": {},
   "outputs": [
    {
     "ename": "IndentationError",
     "evalue": "unexpected indent (2055062189.py, line 2)",
     "output_type": "error",
     "traceback": [
      "\u001b[1;36m  Cell \u001b[1;32mIn[28], line 2\u001b[1;36m\u001b[0m\n\u001b[1;33m    name=input(\"Enter The name: \")\u001b[0m\n\u001b[1;37m    ^\u001b[0m\n\u001b[1;31mIndentationError\u001b[0m\u001b[1;31m:\u001b[0m unexpected indent\n"
     ]
    }
   ],
   "source": [
    "#question 5:string formatting\n",
    " name=input(\"Enter The name: \")\n",
    " age=int(input(\"Enter The age: \"))\n",
    " print(\"hello\",name,\"you are\",age,\"years old\")"
   ]
  },
  {
   "cell_type": "code",
   "execution_count": null,
   "id": "805e4b46-015a-41f1-a792-417ba0dfe3dc",
   "metadata": {},
   "outputs": [],
   "source": []
  }
 ],
 "metadata": {
  "kernelspec": {
   "display_name": "Python 3 (ipykernel)",
   "language": "python",
   "name": "python3"
  },
  "language_info": {
   "codemirror_mode": {
    "name": "ipython",
    "version": 3
   },
   "file_extension": ".py",
   "mimetype": "text/x-python",
   "name": "python",
   "nbconvert_exporter": "python",
   "pygments_lexer": "ipython3",
   "version": "3.12.4"
  }
 },
 "nbformat": 4,
 "nbformat_minor": 5
}
